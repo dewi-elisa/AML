{
  "nbformat": 4,
  "nbformat_minor": 0,
  "metadata": {
    "colab": {
      "provenance": []
    },
    "kernelspec": {
      "name": "python3",
      "display_name": "Python 3"
    },
    "language_info": {
      "name": "python"
    }
  },
  "cells": [
    {
      "cell_type": "code",
      "execution_count": 2,
      "metadata": {
        "colab": {
          "base_uri": "https://localhost:8080/"
        },
        "id": "Ub1GR2bIReiQ",
        "outputId": "971f9efc-d18e-484f-e02b-093e6b789a7a"
      },
      "outputs": [
        {
          "output_type": "stream",
          "name": "stdout",
          "text": [
            "clips shape: (2, 3000, 2)\n",
            "dims: [[ 1 64 64]]\n",
            "raw data shape: (60000, 1, 64, 64)\n"
          ]
        }
      ],
      "source": [
        "import numpy as np\n",
        "\n",
        "data = np.load('moving-mnist-test.npz')\n",
        "clips = data['clips']\n",
        "dims = data['dims']\n",
        "raw = data['input_raw_data']  # shape: (60000, 1, 64, 64)\n",
        "\n",
        "print(f\"clips shape: {clips.shape}\")\n",
        "print(f\"dims: {dims}\")\n",
        "print(f\"raw data shape: {raw.shape}\")\n"
      ]
    },
    {
      "cell_type": "code",
      "source": [
        "print(data.files)"
      ],
      "metadata": {
        "colab": {
          "base_uri": "https://localhost:8080/"
        },
        "id": "dEwkkgc1RxO_",
        "outputId": "6deb9f1e-3840-4871-c357-f5fc7679a401"
      },
      "execution_count": 3,
      "outputs": [
        {
          "output_type": "stream",
          "name": "stdout",
          "text": [
            "['clips', 'dims', 'input_raw_data']\n"
          ]
        }
      ]
    },
    {
      "cell_type": "markdown",
      "source": [
        "# Set random pixels to 0"
      ],
      "metadata": {
        "id": "m9IhiQlsO4Rp"
      }
    },
    {
      "cell_type": "code",
      "source": [
        "def corrupt_frames_randomly(frames, corruption_ratio=0.1):\n",
        "    \"\"\"\n",
        "    Randomly zeroes out a percentage of pixels in each frame.\n",
        "\n",
        "    frames: (N, H, W) numpy array\n",
        "    corruption_ratio: float in [0, 1]\n",
        "    \"\"\"\n",
        "    corrupted = frames.copy()\n",
        "    N, H, W = corrupted.shape\n",
        "    num_pixels = H * W\n",
        "    num_to_corrupt = int(num_pixels * corruption_ratio)\n",
        "\n",
        "    for i in range(N):\n",
        "        indices = np.random.choice(num_pixels, num_to_corrupt, replace=False)\n",
        "        y_coords, x_coords = np.unravel_index(indices, (H, W))\n",
        "        corrupted[i, y_coords, x_coords] = 0\n",
        "    return corrupted\n",
        "\n",
        "# Remove channel dimension: (60000, 64, 64)\n",
        "frames = raw.squeeze(1)\n",
        "corrupted_frames = corrupt_frames_randomly(frames, corruption_ratio=0.1)\n"
      ],
      "metadata": {
        "id": "Pn_zRZTzSDJr"
      },
      "execution_count": null,
      "outputs": []
    },
    {
      "cell_type": "code",
      "source": [
        "import matplotlib.pyplot as plt\n",
        "\n",
        "i = 123  # any frame index\n",
        "\n",
        "plt.subplot(1, 2, 1)\n",
        "plt.title(\"Original\")\n",
        "plt.imshow(frames[i], cmap='gray')\n",
        "\n",
        "plt.subplot(1, 2, 2)\n",
        "plt.title(\"Corrupted\")\n",
        "plt.imshow(corrupted_frames[i], cmap='gray')\n",
        "\n",
        "plt.show()\n"
      ],
      "metadata": {
        "colab": {
          "base_uri": "https://localhost:8080/",
          "height": 308
        },
        "id": "mHWwRaDASgwH",
        "outputId": "bec24974-e96b-41ca-f286-fecde7ca020b"
      },
      "execution_count": null,
      "outputs": [
        {
          "output_type": "display_data",
          "data": {
            "text/plain": [
              "<Figure size 640x480 with 2 Axes>"
            ],
            "image/png": "[encoded data removed]"
          },
          "metadata": {}
        }
      ]
    },
    {
      "cell_type": "code",
      "source": [
        "# Load original to get 'clips' and 'dims'\n",
        "original = np.load('moving-mnist-test.npz')\n",
        "clips = original['clips']\n",
        "dims = original['dims']\n",
        "\n",
        "# Your corrupted data, assumed to be shape (60000, 64, 64)\n",
        "# Add back the channel dimension to match original shape (60000, 1, 64, 64)\n",
        "corrupted_raw = corrupted_frames[:, np.newaxis, :, :]\n",
        "\n",
        "# Save in the same structure\n",
        "np.savez_compressed(\n",
        "    'moving-mnist-corrupted.npz',\n",
        "    clips=clips,\n",
        "    dims=dims,\n",
        "    input_raw_data=corrupted_raw\n",
        ")\n"
      ],
      "metadata": {
        "id": "WbfR--JGSm2S"
      },
      "execution_count": null,
      "outputs": []
    },
    {
      "cell_type": "markdown",
      "source": [
        "# Set random rows to 0"
      ],
      "metadata": {
        "id": "edozHdU6O9sO"
      }
    },
    {
      "cell_type": "code",
      "source": [
        "def corrupt_frames_rows(frames, corruption_ratio=0.1):\n",
        "    \"\"\"\n",
        "    Randomly zeroes out a percentage of rows in each frame.\n",
        "\n",
        "    frames: (N, H, W) numpy array\n",
        "    corruption_ratio: float in [0, 1] - percentage of rows to corrupt\n",
        "    \"\"\"\n",
        "    corrupted = frames.copy()\n",
        "    N, H, W = corrupted.shape\n",
        "    num_rows_to_corrupt = int(H * corruption_ratio)\n",
        "\n",
        "    for i in range(N):\n",
        "        # Randomly select which rows to corrupt\n",
        "        row_indices = np.random.choice(H, num_rows_to_corrupt, replace=False)\n",
        "        # Zero out the selected rows\n",
        "        corrupted[i, row_indices, :] = 0\n",
        "\n",
        "    return corrupted\n",
        "\n",
        "# Remove channel dimension: (60000, 64, 64)\n",
        "frames = raw.squeeze(1)\n",
        "\n",
        "# Apply row-based corruption\n",
        "corrupted_frames = corrupt_frames_rows(frames, corruption_ratio=0.1)\n",
        "\n",
        "# Visualize the difference\n",
        "i = 123  # any frame index\n",
        "\n",
        "plt.figure(figsize=(10, 4))\n",
        "plt.subplot(1, 2, 1)\n",
        "plt.title(\"Original\")\n",
        "plt.imshow(frames[i], cmap='gray')\n",
        "\n",
        "plt.subplot(1, 2, 2)\n",
        "plt.title(\"Row-Corrupted\")\n",
        "plt.imshow(corrupted_frames[i], cmap='gray')\n",
        "\n",
        "plt.show()\n",
        "\n",
        "# Load original to get 'clips' and 'dims'\n",
        "original = np.load('moving-mnist-test.npz')\n",
        "clips = original['clips']\n",
        "dims = original['dims']\n",
        "\n",
        "# Add back the channel dimension to match original shape (60000, 1, 64, 64)\n",
        "corrupted_raw = corrupted_frames[:, np.newaxis, :, :]\n",
        "\n",
        "# Save in the same structure\n",
        "np.savez_compressed(\n",
        "    'moving-mnist-row-corrupted.npz',\n",
        "    clips=clips,\n",
        "    dims=dims,\n",
        "    input_raw_data=corrupted_raw\n",
        ")\n",
        "\n",
        "print(f\"Original shape: {frames.shape}\")\n",
        "print(f\"Corrupted shape: {corrupted_frames.shape}\")\n",
        "print(f\"Saved corrupted data with {int(64 * 0.1)} rows zeroed per frame on average\")"
      ],
      "metadata": {
        "colab": {
          "base_uri": "https://localhost:8080/",
          "height": 443
        },
        "id": "v7NU-ZtzN0EM",
        "outputId": "35599475-7973-4633-8b82-7cbc02190359"
      },
      "execution_count": 4,
      "outputs": [
        {
          "output_type": "display_data",
          "data": {
            "text/plain": [
              "<Figure size 1000x400 with 2 Axes>"
            ],
            "image/png": "[encoded data removed]"
          },
          "metadata": {}
        },
        {
          "output_type": "stream",
          "name": "stdout",
          "text": [
            "Original shape: (60000, 64, 64)\n",
            "Corrupted shape: (60000, 64, 64)\n",
            "Saved corrupted data with 6 rows zeroed per frame on average\n"
          ]
        }
      ]
    },
    {
      "cell_type": "markdown",
      "source": [
        "# set random blocks to 0\n",
        "\n",
        "# size 2x2"
      ],
      "metadata": {
        "id": "yAVCCeOJPER_"
      }
    },
    {
      "cell_type": "code",
      "source": [
        "def corrupt_frames_with_blocks(frames, corruption_ratio=0.1, block_size=10):\n",
        "    \"\"\"\n",
        "    Randomly zeroes out blocks of pixels in each frame.\n",
        "\n",
        "    frames: (N, H, W) numpy array\n",
        "    corruption_ratio: float in [0, 1] - fraction of total area to corrupt\n",
        "    block_size: int - size of square blocks to corrupt (default 2 for 2x2 blocks)\n",
        "    \"\"\"\n",
        "    corrupted = frames.copy()\n",
        "    N, H, W = corrupted.shape\n",
        "\n",
        "    # Calculate how many blocks we can fit in each dimension\n",
        "    blocks_per_row = H // block_size\n",
        "    blocks_per_col = W // block_size\n",
        "    total_blocks = blocks_per_row * blocks_per_col\n",
        "\n",
        "    # Calculate how many blocks to corrupt based on the corruption ratio\n",
        "    # Each block covers block_size^2 pixels\n",
        "    total_pixels = H * W\n",
        "    pixels_to_corrupt = int(total_pixels * corruption_ratio)\n",
        "    blocks_to_corrupt = max(1, pixels_to_corrupt // (block_size * block_size))\n",
        "\n",
        "    # Make sure we don't try to corrupt more blocks than available\n",
        "    blocks_to_corrupt = min(blocks_to_corrupt, total_blocks)\n",
        "\n",
        "    for i in range(N):\n",
        "        # Generate random block positions\n",
        "        block_indices = np.random.choice(total_blocks, blocks_to_corrupt, replace=False)\n",
        "\n",
        "        for block_idx in block_indices:\n",
        "            # Convert block index to row, col coordinates\n",
        "            block_row = (block_idx // blocks_per_col) * block_size\n",
        "            block_col = (block_idx % blocks_per_col) * block_size\n",
        "\n",
        "            # Zero out the block\n",
        "            corrupted[i, block_row:block_row+block_size, block_col:block_col+block_size] = 0\n",
        "\n",
        "    return corrupted\n",
        "\n",
        "# Remove channel dimension: (60000, 64, 64)\n",
        "frames = raw.squeeze(1)\n",
        "\n",
        "# Apply block corruption\n",
        "corrupted_frames = corrupt_frames_with_blocks(frames, corruption_ratio=0.1, block_size=2)\n",
        "\n",
        "# Visualize the difference\n",
        "i = 123  # any frame index\n",
        "\n",
        "plt.figure(figsize=(12, 4))\n",
        "\n",
        "plt.subplot(1, 3, 1)\n",
        "plt.title(\"Original\")\n",
        "plt.imshow(frames[i], cmap='gray')\n",
        "plt.axis('off')\n",
        "\n",
        "plt.subplot(1, 3, 2)\n",
        "plt.title(\"Corrupted (2x2 blocks)\")\n",
        "plt.imshow(corrupted_frames[i], cmap='gray')\n",
        "plt.axis('off')\n",
        "\n",
        "plt.subplot(1, 3, 3)\n",
        "plt.title(\"Difference\")\n",
        "plt.imshow(frames[i] - corrupted_frames[i], cmap='bwr')\n",
        "plt.axis('off')\n",
        "\n",
        "plt.tight_layout()\n",
        "plt.show()\n",
        "\n",
        "# Save the corrupted dataset\n",
        "# Load original to get 'clips' and 'dims'\n",
        "clips = data['clips']\n",
        "dims = data['dims']\n",
        "\n",
        "# Add back the channel dimension to match original shape (60000, 1, 64, 64)\n",
        "corrupted_raw = corrupted_frames[:, np.newaxis, :, :]\n",
        "\n",
        "# Save in the same structure\n",
        "np.savez_compressed(\n",
        "    'moving-mnist-corrupted-blocks_22.npz',\n",
        "    clips=clips,\n",
        "    dims=dims,\n",
        "    input_raw_data=corrupted_raw\n",
        ")\n",
        "\n",
        "print(f\"Original shape: {frames.shape}\")\n",
        "print(f\"Corrupted shape: {corrupted_frames.shape}\")"
      ],
      "metadata": {
        "colab": {
          "base_uri": "https://localhost:8080/",
          "height": 476
        },
        "id": "NDM-TuUlPEdm",
        "outputId": "7d242e45-1966-4ddc-f714-14ff86220f87"
      },
      "execution_count": 17,
      "outputs": [
        {
          "output_type": "display_data",
          "data": {
            "text/plain": [
              "<Figure size 1200x400 with 3 Axes>"
            ],
            "image/png": "[encoded data removed]"
          },
          "metadata": {}
        },
        {
          "output_type": "stream",
          "name": "stdout",
          "text": [
            "Original shape: (60000, 64, 64)\n",
            "Corrupted shape: (60000, 64, 64)\n",
            "Saved corrupted dataset with 2x2 block corruption to 'moving-mnist-corrupted-blocks.npz'\n"
          ]
        }
      ]
    },
    {
      "cell_type": "markdown",
      "source": [
        "# size 5"
      ],
      "metadata": {
        "id": "QjMok4hEQpZz"
      }
    },
    {
      "cell_type": "code",
      "source": [
        "# Remove channel dimension: (60000, 64, 64)\n",
        "frames = raw.squeeze(1)\n",
        "\n",
        "# Apply block corruption\n",
        "corrupted_frames = corrupt_frames_with_blocks(frames, corruption_ratio=0.1, block_size=5)\n",
        "\n",
        "# Visualize the difference\n",
        "i = 123  # any frame index\n",
        "\n",
        "plt.figure(figsize=(12, 4))\n",
        "\n",
        "plt.subplot(1, 3, 1)\n",
        "plt.title(\"Original\")\n",
        "plt.imshow(frames[i], cmap='gray')\n",
        "plt.axis('off')\n",
        "\n",
        "plt.subplot(1, 3, 2)\n",
        "plt.title(\"Corrupted (5x5 blocks)\")\n",
        "plt.imshow(corrupted_frames[i], cmap='gray')\n",
        "plt.axis('off')\n",
        "\n",
        "plt.subplot(1, 3, 3)\n",
        "plt.title(\"Difference\")\n",
        "plt.imshow(frames[i] - corrupted_frames[i], cmap='bwr')\n",
        "plt.axis('off')\n",
        "\n",
        "plt.tight_layout()\n",
        "plt.show()\n",
        "\n",
        "# Save the corrupted dataset\n",
        "# Load original to get 'clips' and 'dims'\n",
        "clips = data['clips']\n",
        "dims = data['dims']\n",
        "\n",
        "# Add back the channel dimension to match original shape (60000, 1, 64, 64)\n",
        "corrupted_raw = corrupted_frames[:, np.newaxis, :, :]\n",
        "\n",
        "# Save in the same structure\n",
        "np.savez_compressed(\n",
        "    'moving-mnist-corrupted-blocks_55.npz',\n",
        "    clips=clips,\n",
        "    dims=dims,\n",
        "    input_raw_data=corrupted_raw\n",
        ")\n",
        "\n",
        "print(f\"Original shape: {frames.shape}\")\n",
        "print(f\"Corrupted shape: {corrupted_frames.shape}\")"
      ],
      "metadata": {
        "colab": {
          "base_uri": "https://localhost:8080/",
          "height": 459
        },
        "id": "R65z8KNFQkM9",
        "outputId": "750a08d2-fee7-41bf-fec7-5706b5668bac"
      },
      "execution_count": 19,
      "outputs": [
        {
          "output_type": "display_data",
          "data": {
            "text/plain": [
              "<Figure size 1200x400 with 3 Axes>"
            ],
            "image/png": "[encoded data removed]"
          },
          "metadata": {}
        },
        {
          "output_type": "stream",
          "name": "stdout",
          "text": [
            "Original shape: (60000, 64, 64)\n",
            "Corrupted shape: (60000, 64, 64)\n"
          ]
        }
      ]
    },
    {
      "cell_type": "code",
      "source": [
        "# Remove channel dimension: (60000, 64, 64)\n",
        "frames = raw.squeeze(1)\n",
        "\n",
        "# Apply block corruption\n",
        "corrupted_frames = corrupt_frames_with_blocks(frames, corruption_ratio=0.1, block_size=10)\n",
        "\n",
        "# Visualize the difference\n",
        "i = 123  # any frame index\n",
        "\n",
        "plt.figure(figsize=(12, 4))\n",
        "\n",
        "plt.subplot(1, 3, 1)\n",
        "plt.title(\"Original\")\n",
        "plt.imshow(frames[i], cmap='gray')\n",
        "plt.axis('off')\n",
        "\n",
        "plt.subplot(1, 3, 2)\n",
        "plt.title(\"Corrupted (10x10 blocks)\")\n",
        "plt.imshow(corrupted_frames[i], cmap='gray')\n",
        "plt.axis('off')\n",
        "\n",
        "plt.subplot(1, 3, 3)\n",
        "plt.title(\"Difference\")\n",
        "plt.imshow(frames[i] - corrupted_frames[i], cmap='bwr')\n",
        "plt.axis('off')\n",
        "\n",
        "plt.tight_layout()\n",
        "plt.show()\n",
        "\n",
        "# Save the corrupted dataset\n",
        "# Load original to get 'clips' and 'dims'\n",
        "clips = data['clips']\n",
        "dims = data['dims']\n",
        "\n",
        "# Add back the channel dimension to match original shape (60000, 1, 64, 64)\n",
        "corrupted_raw = corrupted_frames[:, np.newaxis, :, :]\n",
        "\n",
        "# Save in the same structure\n",
        "np.savez_compressed(\n",
        "    'moving-mnist-corrupted-blocks_1010.npz',\n",
        "    clips=clips,\n",
        "    dims=dims,\n",
        "    input_raw_data=corrupted_raw\n",
        ")\n",
        "\n",
        "print(f\"Original shape: {frames.shape}\")\n",
        "print(f\"Corrupted shape: {corrupted_frames.shape}\")"
      ],
      "metadata": {
        "colab": {
          "base_uri": "https://localhost:8080/",
          "height": 476
        },
        "id": "FNZvBqUbRvud",
        "outputId": "2942e069-d384-4075-f8b4-1fa8019941e1"
      },
      "execution_count": 18,
      "outputs": [
        {
          "output_type": "display_data",
          "data": {
            "text/plain": [
              "<Figure size 1200x400 with 3 Axes>"
            ],
            "image/png": "[encoded data removed]"
          },
          "metadata": {}
        },
        {
          "output_type": "stream",
          "name": "stdout",
          "text": [
            "Original shape: (60000, 64, 64)\n",
            "Corrupted shape: (60000, 64, 64)\n",
            "Saved corrupted dataset with 10x10 block corruption to 'moving-mnist-corrupted-blocks.npz'\n"
          ]
        }
      ]
    }
  ]
}